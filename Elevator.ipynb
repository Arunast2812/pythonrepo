{
  "nbformat": 4,
  "nbformat_minor": 0,
  "metadata": {
    "colab": {
      "provenance": []
    },
    "kernelspec": {
      "name": "python3",
      "display_name": "Python 3"
    },
    "language_info": {
      "name": "python"
    }
  },
  "cells": [
    {
      "cell_type": "code",
      "source": [
        "# Elevator functionality for a building with buttons \n"
      ],
      "metadata": {
        "id": "yaqEwdMXQM7Q"
      },
      "execution_count": 68,
      "outputs": []
    },
    {
      "cell_type": "markdown",
      "source": [],
      "metadata": {
        "id": "4yHp3dVaQNdG"
      }
    },
    {
      "cell_type": "code",
      "source": [
        "\n",
        "\n",
        "\n",
        "import os, sys\n",
        "import threading\n",
        "from threading import Thread\n",
        "from time import sleep\n",
        "import time\n",
        "DOOR_TIMER = 5\n",
        "\n",
        "#Elevator class for movement across floors with actions initiated from buttons\n",
        "# Button Up, Button Down, Button Floor\n",
        "# The class can be further enhanced for multithreaded button operations \n",
        "\n",
        "class Elevator():\n",
        "   min_floor =-1\n",
        "   max_floor= 5\n",
        "   current_floor=-1\n",
        "   target_floor=-1\n",
        "   direction='up' \n",
        "   pending_floors=[]\n",
        "   moving = True\n",
        "   \n",
        "\n",
        "   def __init__(self, minfloor, maxfloor):\n",
        "     self.min_floor=minfloor\n",
        "     self.max_floor=maxfloor\n",
        "     self.current_floor = minfloor\n",
        "     self.moving=False\n",
        "\n",
        "   \n",
        "   def goto_next_floor(self):  #IOT action for mechanical movement\n",
        "     print('GO TO NEXT FlOOR MECHANICAL ACTION')\n",
        "    \n",
        "     if(self.direction=='up' and self.current_floor != self.max_floor):\n",
        "       self.current_floor=self.current_floor+1 \n",
        "     elif(self.direction=='down' and self.current_floor != self.min_floor):\n",
        "       self.current_floor=self.current_floor-1 \n",
        "     print('GO TO NEXT FlOOR MECHANICAL ACTION:',self.current_floor )\n",
        "    \n",
        "   def door_open(self):\n",
        "     print('door_open: Moving status:', self.moving)  \n",
        "     sleep(DOOR_TIMER)\n",
        "     if(len(self.pending_floors) and self.current_floor in self.pending_floors):\n",
        "       self.pending_floors.remove(self.current_floor)\n",
        "     if(self.current_floor ==self.target_floor):\n",
        "       if len(self.pending_floors):\n",
        "         self.target_floor=self.pending_floors.pop()\n",
        "       \n",
        "     self.door_close()\n",
        "     return\n",
        "\n",
        "   def door_close(self):\n",
        "    \n",
        "    sleep(DOOR_TIMER)\n",
        "    if(self.current_floor!=self.target_floor):\n",
        "      self.move_to_target_floor(self)\n",
        "    else:\n",
        "      if(len(self.pending_floors)==0):\n",
        "        self.moving=False\n",
        "    print('door_close: Moving status:', self.moving)\n",
        "    return    \n",
        "\n",
        "   def move_to_target_floor(self):\n",
        "     print('Move to target_floor:', self.target_floor, 'Moving status:', self.moving)\n",
        "    \n",
        "     while(self.current_floor !=self.target_floor):\n",
        "        self.moving=True\n",
        "        if self.current_floor < self.target_floor:\n",
        "          self.direction='up'\n",
        "        else:\n",
        "          self.direction='down'\n",
        "        \n",
        "        self.goto_next_floor() \n",
        "        \n",
        "        if(len(self.pending_floors) and self.current_floor in self.pending_floors ):\n",
        "          self.door_open()\n",
        "          break;\n",
        "      \n",
        "     self.door_open()\n",
        "     return\n",
        "\n",
        "   \n",
        "   def button_up(self, floor):\n",
        "     print('Button Up:', floor, 'Moving status:', self.moving)\n",
        "    \n",
        "     if(self.moving):\n",
        "       self.pending_floors.append(floor)\n",
        "     else:\n",
        "       self.button_floor(floor)\n",
        " \n",
        "\n",
        "   def button_down(self, floor):\n",
        "     print('Button Down:', floor, 'Moving status:', self.moving)\n",
        "     if(self.moving):\n",
        "       self.pending_floors.append(floor)\n",
        "     else:\n",
        "       self.button_floor(floor)\n",
        "\n",
        "\n",
        "\n",
        "   def button_floor(self,floor):\n",
        "     print('Button Floor:', floor)\n",
        "     \n",
        "     if(floor >self.max_floor or floor < self.min_floor ):\n",
        "       return('Exception : Invalid floor')\n",
        "     print('Button floor:', floor, 'Moving status:', self.moving)\n",
        "     if(self.moving):\n",
        "       self.pending_floors.append(floor)\n",
        "     else:\n",
        "        self.target_floor = floor\n",
        "        self.moving=True\n",
        "        self.move_to_target_floor()\n",
        "        \n",
        "     return\n",
        "      \n",
        "   "
      ],
      "metadata": {
        "id": "QX_-NDE_QELI"
      },
      "execution_count": null,
      "outputs": []
    },
    {
      "cell_type": "code",
      "source": [
        "e = Elevator(-1, 6)\n",
        "e.button_floor(6)\n",
        "e.button_down(3)\n"
      ],
      "metadata": {
        "colab": {
          "base_uri": "https://localhost:8080/"
        },
        "id": "8l1DStEHGFya",
        "outputId": "23b1922e-2856-448d-8727-14f813980717"
      },
      "execution_count": 67,
      "outputs": [
        {
          "output_type": "stream",
          "name": "stdout",
          "text": [
            "Button Floor: 6\n",
            "Button floor: 6 Moving status: False\n",
            "Move to target_floor: 6 Moving status: True\n",
            "GO TO NEXT FlOOR MECHANICAL ACTION\n",
            "GO TO NEXT FlOOR MECHANICAL ACTION: 0\n",
            "GO TO NEXT FlOOR MECHANICAL ACTION\n",
            "GO TO NEXT FlOOR MECHANICAL ACTION: 1\n",
            "GO TO NEXT FlOOR MECHANICAL ACTION\n",
            "GO TO NEXT FlOOR MECHANICAL ACTION: 2\n",
            "GO TO NEXT FlOOR MECHANICAL ACTION\n",
            "GO TO NEXT FlOOR MECHANICAL ACTION: 3\n",
            "GO TO NEXT FlOOR MECHANICAL ACTION\n",
            "GO TO NEXT FlOOR MECHANICAL ACTION: 4\n",
            "GO TO NEXT FlOOR MECHANICAL ACTION\n",
            "GO TO NEXT FlOOR MECHANICAL ACTION: 5\n",
            "GO TO NEXT FlOOR MECHANICAL ACTION\n",
            "GO TO NEXT FlOOR MECHANICAL ACTION: 6\n",
            "door_open: Moving status: True\n",
            "door_close: Moving status: False\n",
            "Button Down: 3 Moving status: False\n",
            "Button Floor: 3\n",
            "Button floor: 3 Moving status: False\n",
            "Move to target_floor: 3 Moving status: True\n",
            "GO TO NEXT FlOOR MECHANICAL ACTION\n",
            "GO TO NEXT FlOOR MECHANICAL ACTION: 5\n",
            "GO TO NEXT FlOOR MECHANICAL ACTION\n",
            "GO TO NEXT FlOOR MECHANICAL ACTION: 4\n",
            "GO TO NEXT FlOOR MECHANICAL ACTION\n",
            "GO TO NEXT FlOOR MECHANICAL ACTION: 3\n",
            "door_open: Moving status: True\n",
            "door_close: Moving status: False\n"
          ]
        }
      ]
    },
    {
      "cell_type": "code",
      "source": [],
      "metadata": {
        "id": "RA7xfANWJUuS"
      },
      "execution_count": null,
      "outputs": []
    }
  ]
}